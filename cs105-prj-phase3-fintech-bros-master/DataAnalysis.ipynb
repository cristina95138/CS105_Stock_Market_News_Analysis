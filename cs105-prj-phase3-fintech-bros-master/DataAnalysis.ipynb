{
 "cells": [
  {
   "cell_type": "markdown",
   "metadata": {},
   "source": [
    "# Data Analysis of News and Stock Prices"
   ]
  },
  {
   "cell_type": "markdown",
   "metadata": {},
   "source": [
    "First we'll import all the libraries we'll need."
   ]
  },
  {
   "cell_type": "code",
   "execution_count": 1,
   "metadata": {},
   "outputs": [],
   "source": [
    "import pandas as pd\n",
    "import seaborn as sns\n",
    "import numpy as np\n",
    "from matplotlib import pyplot\n",
    "import matplotlib.pyplot as plt\n",
    "from pandas.plotting import parallel_coordinates\n",
    "import plotly.graph_objects as go\n",
    "from sklearn.pipeline import Pipeline\n",
    "from sklearn.metrics import accuracy_score, mean_squared_error\n",
    "from sklearn.feature_extraction.text import CountVectorizer\n",
    "from sklearn.linear_model import LogisticRegression\n",
    "from sklearn.linear_model import LinearRegression\n",
    "from sklearn.linear_model import SGDClassifier\n",
    "from sklearn.model_selection import train_test_split, KFold, cross_val_score, GridSearchCV, TimeSeriesSplit\n",
    "from sklearn.linear_model import LogisticRegression\n",
    "from sklearn.tree import DecisionTreeClassifier\n",
    "from sklearn.neighbors import KNeighborsClassifier\n",
    "from sklearn.naive_bayes import GaussianNB\n",
    "from sklearn.svm import SVC\n",
    "from sklearn.ensemble import AdaBoostClassifier, GradientBoostingClassifier, RandomForestClassifier, ExtraTreesClassifier"
   ]
  },
  {
   "cell_type": "markdown",
   "metadata": {},
   "source": [
    "## Reading in and Cleaning the Data Sets"
   ]
  },
  {
   "cell_type": "markdown",
   "metadata": {},
   "source": [
    "Then we'll import our data sets. The dats sets are the news_dija_data set which includes the top 25 Reddit News headlines and dija_data set which includes the opening and closing of the Dow Jones stock over a period of time."
   ]
  },
  {
   "cell_type": "code",
   "execution_count": 2,
   "metadata": {},
   "outputs": [],
   "source": [
    "news_dija_data = pd.read_csv('combined_stock_data.csv')\n",
    "djia_data = pd.read_csv('upload_DJIA_table.csv')"
   ]
  },
  {
   "cell_type": "markdown",
   "metadata": {},
   "source": [
    "Next, we'll clean up our news_dija_data set. There may be some rows that are null and some that aren't strings so we have to conver them. Also, the data set comes with the letter 'b' at the beginning of every healine so we have to remove that."
   ]
  },
  {
   "cell_type": "code",
   "execution_count": 3,
   "metadata": {},
   "outputs": [],
   "source": [
    "# clean null rows\n",
    "news_dija_data = news_dija_data.dropna()\n",
    "\n",
    "# convert all rows to strings\n",
    "news_dija_data = news_dija_data.apply(lambda x: x.map(lambda y: str(y)), axis=1) \n",
    "\n",
    "# remove b characters\n",
    "news_dija_data = news_dija_data.apply(lambda x: x.map(lambda y: y.replace('b\"', '').replace\n",
    "                                                      (\"b'\", '').replace('\"', '')), axis=1)"
   ]
  },
  {
   "cell_type": "markdown",
   "metadata": {},
   "source": [
    "## Combining the Data Sets"
   ]
  },
  {
   "cell_type": "markdown",
   "metadata": {},
   "source": [
    "We now will merge our news_dija_data and our dija_data sets so that we only have to work with one data set for easy analysis. We chose various columns from news_dija_data to push to the end of dija_data."
   ]
  },
  {
   "cell_type": "code",
   "execution_count": 4,
   "metadata": {},
   "outputs": [],
   "source": [
    "combined_df = news_dija_data[['Date', 'Label', 'Subjectivity', 'Objectivity', 'Positive', 'Negative', 'Neutral']].merge(\n",
    "    djia_data, how='inner', on='Date', left_index=True)"
   ]
  },
  {
   "cell_type": "code",
   "execution_count": 5,
   "metadata": {},
   "outputs": [
    {
     "data": {
      "text/html": [
       "<div>\n",
       "<style scoped>\n",
       "    .dataframe tbody tr th:only-of-type {\n",
       "        vertical-align: middle;\n",
       "    }\n",
       "\n",
       "    .dataframe tbody tr th {\n",
       "        vertical-align: top;\n",
       "    }\n",
       "\n",
       "    .dataframe thead th {\n",
       "        text-align: right;\n",
       "    }\n",
       "</style>\n",
       "<table border=\"1\" class=\"dataframe\">\n",
       "  <thead>\n",
       "    <tr style=\"text-align: right;\">\n",
       "      <th></th>\n",
       "      <th>Date</th>\n",
       "      <th>Subjectivity</th>\n",
       "      <th>Objectivity</th>\n",
       "      <th>Positive</th>\n",
       "      <th>Negative</th>\n",
       "      <th>Neutral</th>\n",
       "      <th>Open</th>\n",
       "      <th>High</th>\n",
       "      <th>Low</th>\n",
       "      <th>Close</th>\n",
       "      <th>Volume</th>\n",
       "      <th>Adj Close</th>\n",
       "      <th>Label</th>\n",
       "    </tr>\n",
       "  </thead>\n",
       "  <tbody>\n",
       "    <tr>\n",
       "      <td>1988</td>\n",
       "      <td>2008-08-08</td>\n",
       "      <td>75.0</td>\n",
       "      <td>25.0</td>\n",
       "      <td>18.75</td>\n",
       "      <td>56.25</td>\n",
       "      <td>25.0</td>\n",
       "      <td>11432.089844</td>\n",
       "      <td>11759.959961</td>\n",
       "      <td>11388.040039</td>\n",
       "      <td>11734.320312</td>\n",
       "      <td>212830000</td>\n",
       "      <td>11734.320312</td>\n",
       "      <td>0</td>\n",
       "    </tr>\n",
       "    <tr>\n",
       "      <td>1987</td>\n",
       "      <td>2008-08-11</td>\n",
       "      <td>83.3333333333</td>\n",
       "      <td>16.6666666667</td>\n",
       "      <td>41.6666666667</td>\n",
       "      <td>41.6666666667</td>\n",
       "      <td>16.6666666667</td>\n",
       "      <td>11729.669922</td>\n",
       "      <td>11867.110352</td>\n",
       "      <td>11675.530273</td>\n",
       "      <td>11782.349609</td>\n",
       "      <td>183190000</td>\n",
       "      <td>11782.349609</td>\n",
       "      <td>1</td>\n",
       "    </tr>\n",
       "    <tr>\n",
       "      <td>1986</td>\n",
       "      <td>2008-08-12</td>\n",
       "      <td>56.25</td>\n",
       "      <td>43.75</td>\n",
       "      <td>18.75</td>\n",
       "      <td>37.5</td>\n",
       "      <td>43.75</td>\n",
       "      <td>11781.700195</td>\n",
       "      <td>11782.349609</td>\n",
       "      <td>11601.519531</td>\n",
       "      <td>11642.469727</td>\n",
       "      <td>173590000</td>\n",
       "      <td>11642.469727</td>\n",
       "      <td>0</td>\n",
       "    </tr>\n",
       "    <tr>\n",
       "      <td>1985</td>\n",
       "      <td>2008-08-13</td>\n",
       "      <td>38.4615384615</td>\n",
       "      <td>61.5384615385</td>\n",
       "      <td>15.3846153846</td>\n",
       "      <td>23.0769230769</td>\n",
       "      <td>61.5384615385</td>\n",
       "      <td>11632.809570</td>\n",
       "      <td>11633.780273</td>\n",
       "      <td>11453.339844</td>\n",
       "      <td>11532.959961</td>\n",
       "      <td>182550000</td>\n",
       "      <td>11532.959961</td>\n",
       "      <td>0</td>\n",
       "    </tr>\n",
       "    <tr>\n",
       "      <td>1984</td>\n",
       "      <td>2008-08-14</td>\n",
       "      <td>45.4545454545</td>\n",
       "      <td>54.5454545455</td>\n",
       "      <td>36.3636363636</td>\n",
       "      <td>9.090909090910001</td>\n",
       "      <td>54.5454545455</td>\n",
       "      <td>11532.070312</td>\n",
       "      <td>11718.280273</td>\n",
       "      <td>11450.889648</td>\n",
       "      <td>11615.929688</td>\n",
       "      <td>159790000</td>\n",
       "      <td>11615.929688</td>\n",
       "      <td>1</td>\n",
       "    </tr>\n",
       "  </tbody>\n",
       "</table>\n",
       "</div>"
      ],
      "text/plain": [
       "            Date   Subjectivity    Objectivity       Positive  \\\n",
       "1988  2008-08-08           75.0           25.0          18.75   \n",
       "1987  2008-08-11  83.3333333333  16.6666666667  41.6666666667   \n",
       "1986  2008-08-12          56.25          43.75          18.75   \n",
       "1985  2008-08-13  38.4615384615  61.5384615385  15.3846153846   \n",
       "1984  2008-08-14  45.4545454545  54.5454545455  36.3636363636   \n",
       "\n",
       "               Negative        Neutral          Open          High  \\\n",
       "1988              56.25           25.0  11432.089844  11759.959961   \n",
       "1987      41.6666666667  16.6666666667  11729.669922  11867.110352   \n",
       "1986               37.5          43.75  11781.700195  11782.349609   \n",
       "1985      23.0769230769  61.5384615385  11632.809570  11633.780273   \n",
       "1984  9.090909090910001  54.5454545455  11532.070312  11718.280273   \n",
       "\n",
       "               Low         Close     Volume     Adj Close Label  \n",
       "1988  11388.040039  11734.320312  212830000  11734.320312     0  \n",
       "1987  11675.530273  11782.349609  183190000  11782.349609     1  \n",
       "1986  11601.519531  11642.469727  173590000  11642.469727     0  \n",
       "1985  11453.339844  11532.959961  182550000  11532.959961     0  \n",
       "1984  11450.889648  11615.929688  159790000  11615.929688     1  "
      ]
     },
     "execution_count": 5,
     "metadata": {},
     "output_type": "execute_result"
    }
   ],
   "source": [
    "columns = list(combined_df)\n",
    "columns.append(columns.pop(columns.index('Label')))\n",
    "combined_df = combined_df.loc[:, columns]\n",
    "combined_df.head()"
   ]
  },
  {
   "cell_type": "code",
   "execution_count": 6,
   "metadata": {},
   "outputs": [
    {
     "data": {
      "text/html": [
       "<div>\n",
       "<style scoped>\n",
       "    .dataframe tbody tr th:only-of-type {\n",
       "        vertical-align: middle;\n",
       "    }\n",
       "\n",
       "    .dataframe tbody tr th {\n",
       "        vertical-align: top;\n",
       "    }\n",
       "\n",
       "    .dataframe thead th {\n",
       "        text-align: right;\n",
       "    }\n",
       "</style>\n",
       "<table border=\"1\" class=\"dataframe\">\n",
       "  <thead>\n",
       "    <tr style=\"text-align: right;\">\n",
       "      <th></th>\n",
       "      <th>Date</th>\n",
       "      <th>Subjectivity</th>\n",
       "      <th>Objectivity</th>\n",
       "      <th>Positive</th>\n",
       "      <th>Negative</th>\n",
       "      <th>Neutral</th>\n",
       "      <th>Open</th>\n",
       "      <th>High</th>\n",
       "      <th>Low</th>\n",
       "      <th>Close</th>\n",
       "      <th>Volume</th>\n",
       "      <th>Adj Close</th>\n",
       "      <th>Label</th>\n",
       "    </tr>\n",
       "  </thead>\n",
       "  <tbody>\n",
       "    <tr>\n",
       "      <td>0</td>\n",
       "      <td>2008-08-08</td>\n",
       "      <td>75.000000</td>\n",
       "      <td>25.000000</td>\n",
       "      <td>18.750000</td>\n",
       "      <td>56.250000</td>\n",
       "      <td>25.000000</td>\n",
       "      <td>11432.089844</td>\n",
       "      <td>11759.959961</td>\n",
       "      <td>11388.040039</td>\n",
       "      <td>11734.320312</td>\n",
       "      <td>212830000.0</td>\n",
       "      <td>11734.320312</td>\n",
       "      <td>0.0</td>\n",
       "    </tr>\n",
       "    <tr>\n",
       "      <td>1</td>\n",
       "      <td>2008-08-11</td>\n",
       "      <td>83.333333</td>\n",
       "      <td>16.666667</td>\n",
       "      <td>41.666667</td>\n",
       "      <td>41.666667</td>\n",
       "      <td>16.666667</td>\n",
       "      <td>11729.669922</td>\n",
       "      <td>11867.110352</td>\n",
       "      <td>11675.530273</td>\n",
       "      <td>11782.349609</td>\n",
       "      <td>183190000.0</td>\n",
       "      <td>11782.349609</td>\n",
       "      <td>1.0</td>\n",
       "    </tr>\n",
       "    <tr>\n",
       "      <td>2</td>\n",
       "      <td>2008-08-12</td>\n",
       "      <td>56.250000</td>\n",
       "      <td>43.750000</td>\n",
       "      <td>18.750000</td>\n",
       "      <td>37.500000</td>\n",
       "      <td>43.750000</td>\n",
       "      <td>11781.700195</td>\n",
       "      <td>11782.349609</td>\n",
       "      <td>11601.519531</td>\n",
       "      <td>11642.469727</td>\n",
       "      <td>173590000.0</td>\n",
       "      <td>11642.469727</td>\n",
       "      <td>0.0</td>\n",
       "    </tr>\n",
       "    <tr>\n",
       "      <td>3</td>\n",
       "      <td>2008-08-13</td>\n",
       "      <td>38.461538</td>\n",
       "      <td>61.538462</td>\n",
       "      <td>15.384615</td>\n",
       "      <td>23.076923</td>\n",
       "      <td>61.538462</td>\n",
       "      <td>11632.809570</td>\n",
       "      <td>11633.780273</td>\n",
       "      <td>11453.339844</td>\n",
       "      <td>11532.959961</td>\n",
       "      <td>182550000.0</td>\n",
       "      <td>11532.959961</td>\n",
       "      <td>0.0</td>\n",
       "    </tr>\n",
       "    <tr>\n",
       "      <td>4</td>\n",
       "      <td>2008-08-14</td>\n",
       "      <td>45.454545</td>\n",
       "      <td>54.545455</td>\n",
       "      <td>36.363636</td>\n",
       "      <td>9.090909</td>\n",
       "      <td>54.545455</td>\n",
       "      <td>11532.070312</td>\n",
       "      <td>11718.280273</td>\n",
       "      <td>11450.889648</td>\n",
       "      <td>11615.929688</td>\n",
       "      <td>159790000.0</td>\n",
       "      <td>11615.929688</td>\n",
       "      <td>1.0</td>\n",
       "    </tr>\n",
       "  </tbody>\n",
       "</table>\n",
       "</div>"
      ],
      "text/plain": [
       "         Date  Subjectivity  Objectivity   Positive   Negative    Neutral  \\\n",
       "0  2008-08-08     75.000000    25.000000  18.750000  56.250000  25.000000   \n",
       "1  2008-08-11     83.333333    16.666667  41.666667  41.666667  16.666667   \n",
       "2  2008-08-12     56.250000    43.750000  18.750000  37.500000  43.750000   \n",
       "3  2008-08-13     38.461538    61.538462  15.384615  23.076923  61.538462   \n",
       "4  2008-08-14     45.454545    54.545455  36.363636   9.090909  54.545455   \n",
       "\n",
       "           Open          High           Low         Close       Volume  \\\n",
       "0  11432.089844  11759.959961  11388.040039  11734.320312  212830000.0   \n",
       "1  11729.669922  11867.110352  11675.530273  11782.349609  183190000.0   \n",
       "2  11781.700195  11782.349609  11601.519531  11642.469727  173590000.0   \n",
       "3  11632.809570  11633.780273  11453.339844  11532.959961  182550000.0   \n",
       "4  11532.070312  11718.280273  11450.889648  11615.929688  159790000.0   \n",
       "\n",
       "      Adj Close  Label  \n",
       "0  11734.320312    0.0  \n",
       "1  11782.349609    1.0  \n",
       "2  11642.469727    0.0  \n",
       "3  11532.959961    0.0  \n",
       "4  11615.929688    1.0  "
      ]
     },
     "execution_count": 6,
     "metadata": {},
     "output_type": "execute_result"
    }
   ],
   "source": [
    "combined_df['Volume'] = combined_df['Volume'].astype(float)\n",
    "combined_df['Subjectivity'] = combined_df['Subjectivity'].astype(float)\n",
    "combined_df['Objectivity'] = combined_df['Objectivity'].astype(float)\n",
    "combined_df['Positive'] = combined_df['Positive'].astype(float)\n",
    "combined_df['Negative'] = combined_df['Negative'].astype(float)\n",
    "combined_df['Neutral'] = combined_df['Neutral'].astype(float)\n",
    "combined_df['Label'] = combined_df['Label'].astype(float)\n",
    "\n",
    "combined_df.index = combined_df.index.sort_values()\n",
    "combined_df.describe()\n",
    "combined_df.head()"
   ]
  },
  {
   "cell_type": "code",
   "execution_count": 7,
   "metadata": {},
   "outputs": [],
   "source": [
    "train = combined_df[combined_df['Date'] < '2015-01-01']\n",
    "test = combined_df[combined_df['Date'] > '2014-12-31']"
   ]
  },
  {
   "cell_type": "markdown",
   "metadata": {},
   "source": [
    "## Finding the Correlation Between Variables"
   ]
  },
  {
   "cell_type": "markdown",
   "metadata": {},
   "source": [
    "We will be finding the correlation between news article sentiment variables and stock price variables."
   ]
  },
  {
   "cell_type": "markdown",
   "metadata": {},
   "source": [
    "### Finding the Correlation Between a News Article with Negative Sentiment and the Opening Dow Jones Price"
   ]
  },
  {
   "cell_type": "code",
   "execution_count": 8,
   "metadata": {},
   "outputs": [
    {
     "data": {
      "text/plain": [
       "<matplotlib.axes._subplots.AxesSubplot at 0x101fc0f10>"
      ]
     },
     "execution_count": 8,
     "metadata": {},
     "output_type": "execute_result"
    },
    {
     "data": {
      "image/png": "[encoded data removed]",
      "text/plain": [
       "<Figure size 432x288 with 1 Axes>"
      ]
     },
     "metadata": {
      "needs_background": "light"
     },
     "output_type": "display_data"
    }
   ],
   "source": [
    "train.plot.scatter(x=\"Negative\", y=\"Open\")"
   ]
  },
  {
   "cell_type": "markdown",
   "metadata": {},
   "source": [
    "We can see from this scatterplot that the opening price goes up as the negative sentiment of the news headlines goes up."
   ]
  },
  {
   "cell_type": "code",
   "execution_count": 9,
   "metadata": {},
   "outputs": [
    {
     "data": {
      "text/plain": [
       "<matplotlib.axes._subplots.AxesSubplot at 0x1a158fb590>"
      ]
     },
     "execution_count": 9,
     "metadata": {},
     "output_type": "execute_result"
    },
    {
     "data": {
      "image/png": "[encoded data removed]",
      "text/plain": [
       "<Figure size 432x288 with 1 Axes>"
      ]
     },
     "metadata": {
      "needs_background": "light"
     },
     "output_type": "display_data"
    }
   ],
   "source": [
    "X_train = train[[\"Negative\"]]\n",
    "X_test = test[[\"Negative\"]]\n",
    "y_train = train[\"Open\"]\n",
    "\n",
    "model = LinearRegression()\n",
    "model.fit(X=X_train, y=y_train)\n",
    "model.predict(X=X_test)\n",
    "\n",
    "X_new = pd.DataFrame()\n",
    "\n",
    "X_new[\"Negative\"] = np.linspace(0, 100, num=250)\n",
    "\n",
    "y_new = pd.Series(\n",
    "    model.predict(X_new),\n",
    "    index=X_new[\"Negative\"]\n",
    ")\n",
    "\n",
    "train.plot.scatter(x=\"Negative\", y=\"Open\")\n",
    "y_new.plot.line()"
   ]
  },
  {
   "cell_type": "markdown",
   "metadata": {},
   "source": [
    "The same thing that was revealed in the first scatterplot is revealed in the above scatterplot. We can see from this scatterplot that the opening price goes up as the negative sentiment of the news headlines goes up."
   ]
  },
  {
   "cell_type": "markdown",
   "metadata": {},
   "source": [
    "### Finding the Correlation Between a News Article with Positive Sentiment sna the Opening Dow Jones Price"
   ]
  },
  {
   "cell_type": "code",
   "execution_count": 10,
   "metadata": {},
   "outputs": [
    {
     "data": {
      "text/plain": [
       "<matplotlib.axes._subplots.AxesSubplot at 0x1a15a65650>"
      ]
     },
     "execution_count": 10,
     "metadata": {},
     "output_type": "execute_result"
    },
    {
     "data": {
      "image/png": "[encoded data removed]",
      "text/plain": [
       "<Figure size 432x288 with 1 Axes>"
      ]
     },
     "metadata": {
      "needs_background": "light"
     },
     "output_type": "display_data"
    }
   ],
   "source": [
    "X_train = train[[\"Positive\"]]\n",
    "X_test = test[[\"Positive\"]]\n",
    "y_train = train[\"Open\"]\n",
    "\n",
    "model = LinearRegression()\n",
    "model.fit(X=X_train, y=y_train)\n",
    "model.predict(X=X_test)\n",
    "\n",
    "X_new = pd.DataFrame()\n",
    "\n",
    "X_new[\"Positive\"] = np.linspace(0, 100, num=250)\n",
    "\n",
    "y_new = pd.Series(\n",
    "    model.predict(X_new),\n",
    "    index=X_new[\"Positive\"]\n",
    ")\n",
    "\n",
    "train.plot.scatter(x=\"Positive\", y=\"Open\")\n",
    "y_new.plot.line()"
   ]
  },
  {
   "cell_type": "markdown",
   "metadata": {},
   "source": [
    "We can also see from this scatterplot that the opening price goes up as the positive sentiment of the news headlines goes up."
   ]
  },
  {
   "cell_type": "markdown",
   "metadata": {},
   "source": [
    "### Finding the Correlation Between a News Article with Neutral Sentiment and the Opening Dow Jones Price"
   ]
  },
  {
   "cell_type": "code",
   "execution_count": 11,
   "metadata": {},
   "outputs": [
    {
     "data": {
      "text/plain": [
       "<matplotlib.axes._subplots.AxesSubplot at 0x1a1829a410>"
      ]
     },
     "execution_count": 11,
     "metadata": {},
     "output_type": "execute_result"
    },
    {
     "data": {
      "image/png": "[encoded data removed]",
      "text/plain": [
       "<Figure size 432x288 with 1 Axes>"
      ]
     },
     "metadata": {
      "needs_background": "light"
     },
     "output_type": "display_data"
    }
   ],
   "source": [
    "X_train = train[[\"Neutral\"]]\n",
    "X_test = test[[\"Neutral\"]]\n",
    "y_train = train[\"Open\"]\n",
    "\n",
    "model = LinearRegression()\n",
    "model.fit(X=X_train, y=y_train)\n",
    "model.predict(X=X_test)\n",
    "\n",
    "X_new = pd.DataFrame()\n",
    "\n",
    "X_new[\"Neutral\"] = np.linspace(0, 100, num=250)\n",
    "\n",
    "y_new = pd.Series(\n",
    "    model.predict(X_new),\n",
    "    index=X_new[\"Neutral\"]\n",
    ")\n",
    "\n",
    "train.plot.scatter(x=\"Neutral\", y=\"Open\")\n",
    "y_new.plot.line()"
   ]
  },
  {
   "cell_type": "markdown",
   "metadata": {},
   "source": [
    "We can see that this scatterplot is different from the two previous scatterplots. As we can see the opening price actually goes down as the news sentiment goes up in neutrality. This is interesting brcause this suggests that stocks ony go up when news is on the extreme sites of the spectrum in terms of negative and positive sentiment."
   ]
  },
  {
   "cell_type": "markdown",
   "metadata": {},
   "source": [
    "### Finding the Correlation Between All Variables"
   ]
  },
  {
   "cell_type": "code",
   "execution_count": 12,
   "metadata": {},
   "outputs": [
    {
     "data": {
      "text/plain": [
       "<matplotlib.axes._subplots.AxesSubplot at 0x1a18214c50>"
      ]
     },
     "execution_count": 12,
     "metadata": {},
     "output_type": "execute_result"
    },
    {
     "data": {
      "image/png": "[encoded data removed]",
      "text/plain": [
       "<Figure size 432x288 with 2 Axes>"
      ]
     },
     "metadata": {
      "needs_background": "light"
     },
     "output_type": "display_data"
    }
   ],
   "source": [
    "corr = combined_df.corr()\n",
    "sns.heatmap(corr, \n",
    "            xticklabels=corr.columns.values,\n",
    "            yticklabels=corr.columns.values,cmap=\"YlGnBu\")"
   ]
  },
  {
   "cell_type": "markdown",
   "metadata": {},
   "source": [
    "From this correlation heatmap, we can clearly see what variables are correlated. From looking at this we can see that the subjective news sentiment has the greatest effect on the stock price with negative following then positive, objectivity, and then neutrality."
   ]
  },
  {
   "cell_type": "markdown",
   "metadata": {},
   "source": [
    "## Training and Testing Headlines"
   ]
  },
  {
   "cell_type": "markdown",
   "metadata": {},
   "source": [
    "We will be finding which words within the headlines have the highest and lowest coefficients."
   ]
  },
  {
   "cell_type": "code",
   "execution_count": 13,
   "metadata": {},
   "outputs": [],
   "source": [
    "train = news_dija_data[news_dija_data['Date'] < '2015-01-01']\n",
    "test = news_dija_data[news_dija_data['Date'] > '2014-12-31']"
   ]
  },
  {
   "cell_type": "code",
   "execution_count": 14,
   "metadata": {},
   "outputs": [],
   "source": [
    "trainingheadlines = []\n",
    "for row in range(0,len(train.index)):\n",
    "    trainingheadlines.append(' '.join(str(x) for x in train.iloc[row,2:27]))"
   ]
  },
  {
   "cell_type": "code",
   "execution_count": 15,
   "metadata": {},
   "outputs": [
    {
     "name": "stdout",
     "output_type": "stream",
     "text": [
      "(1608, 31114)\n"
     ]
    }
   ],
   "source": [
    "initialvectorizer = CountVectorizer()\n",
    "initialtrain = initialvectorizer.fit_transform(trainingheadlines)\n",
    "print(initialtrain.shape)"
   ]
  },
  {
   "cell_type": "code",
   "execution_count": 16,
   "metadata": {},
   "outputs": [
    {
     "name": "stderr",
     "output_type": "stream",
     "text": [
      "/Users/cristinalawson/opt/anaconda3/lib/python3.7/site-packages/sklearn/linear_model/logistic.py:432: FutureWarning:\n",
      "\n",
      "Default solver will be changed to 'lbfgs' in 0.22. Specify a solver to silence this warning.\n",
      "\n"
     ]
    }
   ],
   "source": [
    "initialmodel = LogisticRegression()\n",
    "initialmodel = initialmodel.fit(initialtrain, train[\"Label\"])"
   ]
  },
  {
   "cell_type": "code",
   "execution_count": 17,
   "metadata": {},
   "outputs": [],
   "source": [
    "testingheadlines = []\n",
    "for row in range(0,len(test.index)):\n",
    "    testingheadlines.append(' '.join(str(x) for x in test.iloc[row,2:27]))\n",
    "initialtest = initialvectorizer.transform(testingheadlines)\n",
    "initialpredictions = initialmodel.predict(initialtest)"
   ]
  },
  {
   "cell_type": "code",
   "execution_count": 18,
   "metadata": {},
   "outputs": [
    {
     "name": "stdout",
     "output_type": "stream",
     "text": [
      "378\n"
     ]
    },
    {
     "data": {
      "text/plain": [
       "<matplotlib.axes._subplots.AxesSubplot at 0x1a182f3e10>"
      ]
     },
     "execution_count": 18,
     "metadata": {},
     "output_type": "execute_result"
    },
    {
     "data": {
      "image/png": "[encoded data removed]",
      "text/plain": [
       "<Figure size 432x288 with 2 Axes>"
      ]
     },
     "metadata": {
      "needs_background": "light"
     },
     "output_type": "display_data"
    }
   ],
   "source": [
    "counts = pd.crosstab(test[\"Label\"], initialpredictions, rownames=[\"Actual\"], colnames=[\"Predicted\"])\n",
    "counts\n",
    "print(counts.sum().sum())\n",
    "joint = counts / counts.sum().sum()\n",
    "joint\n",
    "sns.heatmap(joint)"
   ]
  },
  {
   "cell_type": "code",
   "execution_count": 19,
   "metadata": {},
   "outputs": [
    {
     "data": {
      "text/html": [
       "<div>\n",
       "<style scoped>\n",
       "    .dataframe tbody tr th:only-of-type {\n",
       "        vertical-align: middle;\n",
       "    }\n",
       "\n",
       "    .dataframe tbody tr th {\n",
       "        vertical-align: top;\n",
       "    }\n",
       "\n",
       "    .dataframe thead th {\n",
       "        text-align: right;\n",
       "    }\n",
       "</style>\n",
       "<table border=\"1\" class=\"dataframe\">\n",
       "  <thead>\n",
       "    <tr style=\"text-align: right;\">\n",
       "      <th></th>\n",
       "      <th>Word</th>\n",
       "      <th>Coefficient</th>\n",
       "    </tr>\n",
       "  </thead>\n",
       "  <tbody>\n",
       "    <tr>\n",
       "      <td>15582</td>\n",
       "      <td>kills</td>\n",
       "      <td>0.528035</td>\n",
       "    </tr>\n",
       "    <tr>\n",
       "      <td>25859</td>\n",
       "      <td>so</td>\n",
       "      <td>0.475022</td>\n",
       "    </tr>\n",
       "    <tr>\n",
       "      <td>28772</td>\n",
       "      <td>tv</td>\n",
       "      <td>0.462943</td>\n",
       "    </tr>\n",
       "    <tr>\n",
       "      <td>19071</td>\n",
       "      <td>nigeria</td>\n",
       "      <td>0.449722</td>\n",
       "    </tr>\n",
       "    <tr>\n",
       "      <td>28742</td>\n",
       "      <td>turn</td>\n",
       "      <td>0.415155</td>\n",
       "    </tr>\n",
       "    <tr>\n",
       "      <td>15734</td>\n",
       "      <td>korea</td>\n",
       "      <td>0.413472</td>\n",
       "    </tr>\n",
       "    <tr>\n",
       "      <td>19773</td>\n",
       "      <td>olympics</td>\n",
       "      <td>0.410356</td>\n",
       "    </tr>\n",
       "    <tr>\n",
       "      <td>27778</td>\n",
       "      <td>territory</td>\n",
       "      <td>0.401286</td>\n",
       "    </tr>\n",
       "    <tr>\n",
       "      <td>24819</td>\n",
       "      <td>self</td>\n",
       "      <td>0.399448</td>\n",
       "    </tr>\n",
       "    <tr>\n",
       "      <td>28608</td>\n",
       "      <td>troops</td>\n",
       "      <td>0.396639</td>\n",
       "    </tr>\n",
       "  </tbody>\n",
       "</table>\n",
       "</div>"
      ],
      "text/plain": [
       "            Word  Coefficient\n",
       "15582      kills     0.528035\n",
       "25859         so     0.475022\n",
       "28772         tv     0.462943\n",
       "19071    nigeria     0.449722\n",
       "28742       turn     0.415155\n",
       "15734      korea     0.413472\n",
       "19773   olympics     0.410356\n",
       "27778  territory     0.401286\n",
       "24819       self     0.399448\n",
       "28608     troops     0.396639"
      ]
     },
     "execution_count": 19,
     "metadata": {},
     "output_type": "execute_result"
    }
   ],
   "source": [
    "initialwords = initialvectorizer.get_feature_names()\n",
    "initialcoeffs = initialmodel.coef_.tolist()[0]\n",
    "coeffs_df = pd.DataFrame({'Word' : initialwords,'Coefficient' : initialcoeffs})\n",
    "coeffs_df = coeffs_df.sort_values(['Coefficient', 'Word'], ascending=[0, 1])\n",
    "coeffs_df.head(10)"
   ]
  },
  {
   "cell_type": "markdown",
   "metadata": {},
   "source": [
    "These are the words with the highest coefficients."
   ]
  },
  {
   "cell_type": "code",
   "execution_count": 20,
   "metadata": {},
   "outputs": [
    {
     "data": {
      "text/html": [
       "<div>\n",
       "<style scoped>\n",
       "    .dataframe tbody tr th:only-of-type {\n",
       "        vertical-align: middle;\n",
       "    }\n",
       "\n",
       "    .dataframe tbody tr th {\n",
       "        vertical-align: top;\n",
       "    }\n",
       "\n",
       "    .dataframe thead th {\n",
       "        text-align: right;\n",
       "    }\n",
       "</style>\n",
       "<table border=\"1\" class=\"dataframe\">\n",
       "  <thead>\n",
       "    <tr style=\"text-align: right;\">\n",
       "      <th></th>\n",
       "      <th>Word</th>\n",
       "      <th>Coefficient</th>\n",
       "    </tr>\n",
       "  </thead>\n",
       "  <tbody>\n",
       "    <tr>\n",
       "      <td>6585</td>\n",
       "      <td>congo</td>\n",
       "      <td>-0.436430</td>\n",
       "    </tr>\n",
       "    <tr>\n",
       "      <td>26817</td>\n",
       "      <td>students</td>\n",
       "      <td>-0.439945</td>\n",
       "    </tr>\n",
       "    <tr>\n",
       "      <td>26158</td>\n",
       "      <td>speech</td>\n",
       "      <td>-0.449215</td>\n",
       "    </tr>\n",
       "    <tr>\n",
       "      <td>16662</td>\n",
       "      <td>low</td>\n",
       "      <td>-0.449539</td>\n",
       "    </tr>\n",
       "    <tr>\n",
       "      <td>24324</td>\n",
       "      <td>sanctions</td>\n",
       "      <td>-0.491120</td>\n",
       "    </tr>\n",
       "    <tr>\n",
       "      <td>24113</td>\n",
       "      <td>run</td>\n",
       "      <td>-0.504891</td>\n",
       "    </tr>\n",
       "    <tr>\n",
       "      <td>7036</td>\n",
       "      <td>country</td>\n",
       "      <td>-0.514576</td>\n",
       "    </tr>\n",
       "    <tr>\n",
       "      <td>24988</td>\n",
       "      <td>sex</td>\n",
       "      <td>-0.519301</td>\n",
       "    </tr>\n",
       "    <tr>\n",
       "      <td>24681</td>\n",
       "      <td>sea</td>\n",
       "      <td>-0.521224</td>\n",
       "    </tr>\n",
       "    <tr>\n",
       "      <td>3596</td>\n",
       "      <td>begin</td>\n",
       "      <td>-0.532128</td>\n",
       "    </tr>\n",
       "  </tbody>\n",
       "</table>\n",
       "</div>"
      ],
      "text/plain": [
       "            Word  Coefficient\n",
       "6585       congo    -0.436430\n",
       "26817   students    -0.439945\n",
       "26158     speech    -0.449215\n",
       "16662        low    -0.449539\n",
       "24324  sanctions    -0.491120\n",
       "24113        run    -0.504891\n",
       "7036     country    -0.514576\n",
       "24988        sex    -0.519301\n",
       "24681        sea    -0.521224\n",
       "3596       begin    -0.532128"
      ]
     },
     "execution_count": 20,
     "metadata": {},
     "output_type": "execute_result"
    }
   ],
   "source": [
    "coeffs_df.tail(10)"
   ]
  },
  {
   "cell_type": "markdown",
   "metadata": {},
   "source": [
    "These are the words with the lowest coefficients."
   ]
  },
  {
   "cell_type": "markdown",
   "metadata": {},
   "source": [
    "## Testing and Training Model"
   ]
  },
  {
   "cell_type": "markdown",
   "metadata": {},
   "source": [
    "Setting up the training and testing data sets to be passed into the machine learning models."
   ]
  },
  {
   "cell_type": "code",
   "execution_count": 21,
   "metadata": {},
   "outputs": [],
   "source": [
    "list = ['Subjectivity', 'Objectivity', 'Positive', 'Negative', 'Neutral']\n",
    "\n",
    "for col in list:\n",
    "    combined_df[col] = combined_df[col].fillna(combined_df[col].mean())\n",
    "    \n",
    "X = combined_df.loc[:,'Subjectivity':'Adj Close']\n",
    "y = combined_df.loc[:,'Label']\n",
    "\n",
    "validation_size = 0.35\n",
    "trainSize = int(len(X.index) * 0.7)\n",
    "\n",
    "X_train = X.loc[0:trainSize, :] \n",
    "X_test = X.loc[trainSize: len(X.index), :]\n",
    "y_train = y[0:trainSize]\n",
    "y_test = y.loc[trainSize: len(X.index)]"
   ]
  },
  {
   "cell_type": "markdown",
   "metadata": {},
   "source": [
    "## Machine Learning Models"
   ]
  },
  {
   "cell_type": "markdown",
   "metadata": {},
   "source": [
    "We will be determining which machine learning model is the most accurate."
   ]
  },
  {
   "cell_type": "markdown",
   "metadata": {},
   "source": [
    "### Logistic Regression"
   ]
  },
  {
   "cell_type": "code",
   "execution_count": 22,
   "metadata": {},
   "outputs": [
    {
     "name": "stdout",
     "output_type": "stream",
     "text": [
      "LogisticRegression: 0.5294117647058824\n"
     ]
    }
   ],
   "source": [
    "model = LogisticRegression()\n",
    "model.fit(X_train, y_train)\n",
    "y_pred = model.predict(X_test)\n",
    "score = accuracy_score(y_test, y_pred)\n",
    "print('LogisticRegression' + \": \" + str(score))"
   ]
  },
  {
   "cell_type": "markdown",
   "metadata": {},
   "source": [
    "### K-Nearest Neighbor"
   ]
  },
  {
   "cell_type": "code",
   "execution_count": 23,
   "metadata": {},
   "outputs": [
    {
     "name": "stdout",
     "output_type": "stream",
     "text": [
      "KNeighborsClassifier: 0.4588235294117647\n"
     ]
    }
   ],
   "source": [
    "model = KNeighborsClassifier()\n",
    "model.fit(X_train, y_train)\n",
    "y_pred = model.predict(X_test)\n",
    "score = accuracy_score(y_test, y_pred)\n",
    "print('KNeighborsClassifier' + \": \" + str(score))"
   ]
  },
  {
   "cell_type": "markdown",
   "metadata": {},
   "source": [
    "### Random Forest Classifier"
   ]
  },
  {
   "cell_type": "code",
   "execution_count": 24,
   "metadata": {},
   "outputs": [
    {
     "name": "stdout",
     "output_type": "stream",
     "text": [
      "RandomForestClassifier: 0.5815126050420169\n"
     ]
    }
   ],
   "source": [
    "model = RandomForestClassifier(n_estimators=50)\n",
    "model.fit(X_train, y_train)\n",
    "y_pred = model.predict(X_test)\n",
    "score = accuracy_score(y_test, y_pred)\n",
    "print('RandomForestClassifier' + \": \" + str(score))"
   ]
  },
  {
   "cell_type": "markdown",
   "metadata": {},
   "source": [
    "### SGD(Stochastic Gradient Descent) Classifier"
   ]
  },
  {
   "cell_type": "code",
   "execution_count": 25,
   "metadata": {},
   "outputs": [
    {
     "name": "stdout",
     "output_type": "stream",
     "text": [
      "SGDClassifier: 0.47058823529411764\n"
     ]
    }
   ],
   "source": [
    "model = SGDClassifier()\n",
    "model.fit(X_train, y_train)\n",
    "y_pred = model.predict(X_test)\n",
    "score = accuracy_score(y_test, y_pred)\n",
    "print('SGDClassifier' + \": \" + str(score))"
   ]
  },
  {
   "cell_type": "markdown",
   "metadata": {},
   "source": [
    "We can see that the Random Forest Classifier has the highest accuracy."
   ]
  },
  {
   "cell_type": "markdown",
   "metadata": {},
   "source": [
    "## Conclusion"
   ]
  },
  {
   "cell_type": "markdown",
   "metadata": {},
   "source": [
    "We can see that there is no clear correlation between the sentiment of the news healines and the prices of the stock. This may be beacuse the stock market is unpredictable and many people have different reasons for buying and selling. Some reasons I have behind this are that when there is good news a lot of people sell thinking that it's the peak, and many people buy thinking it will go up further. When there is bad news many people sell thinking it is at its peak, and many people buy thinking that it is low and will go higher. This this causes them to be indistinguishable. In order to get more accurate analysis I believe we would have to do deeper analysis."
   ]
  }
 ],
 "metadata": {
  "kernelspec": {
   "display_name": "Python 3",
   "language": "python",
   "name": "python3"
  },
  "language_info": {
   "codemirror_mode": {
    "name": "ipython",
    "version": 3
   },
   "file_extension": ".py",
   "mimetype": "text/x-python",
   "name": "python",
   "nbconvert_exporter": "python",
   "pygments_lexer": "ipython3",
   "version": "3.7.4"
  }
 },
 "nbformat": 4,
 "nbformat_minor": 4
}
